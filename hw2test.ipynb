{
 "cells": [
  {
   "cell_type": "markdown",
   "metadata": {},
   "source": [
    "<a name=\"top\"></a><img src=\"images/chisel_1024.png\" alt=\"Chisel logo\" style=\"width:480px;\" />"
   ]
  },
  {
   "cell_type": "markdown",
   "metadata": {},
   "source": [
    "# Module 2.4: Sequential Logic\n",
    "**Prev: [Control Flow](2.3_control_flow.ipynb)**<br>\n",
    "**Next: [FIR Filter](2.5_exercise.ipynb)**\n",
    "\n",
    "## Motivation\n",
    "You can't write any meaningful digital logic without state. You can't write any meaningful digital logic without state. You can't write any meaningful digital logic....\n",
    "\n",
    "Get it? Because without storing intermediate results, you can't get anywhere.\n",
    "\n",
    "Ok, that bad joke aside, this module will describe how to express common sequential patterns in Chisel. By the end of the module, you should be able to implement and test a shift register in Chisel.\n",
    "\n",
    "It's important to emphasize that this section will probably not dramatically impress you. Chisel's power is not in new sequential logic patterns, but in the parameterization of a design. Before we demonstrate that capability, we have to learn what these sequential patterns are. Thus, this section will show you that Chisel can do pretty much what Verilog can do - you just need to learn the Chisel syntax.\n",
    "\n",
    "## Setup"
   ]
  },
  {
   "cell_type": "code",
   "execution_count": 1,
   "metadata": {},
   "outputs": [
    {
     "data": {
      "text/plain": [
       "\u001b[36mpath\u001b[39m: \u001b[32mString\u001b[39m = \u001b[32m\"/mnt/c/Users/dunn/Documents/git_working_copies/generator-bootcamp/source/load-ivy.sc\"\u001b[39m"
      ]
     },
     "execution_count": 1,
     "metadata": {},
     "output_type": "execute_result"
    }
   ],
   "source": [
    "val path = System.getProperty(\"user.dir\") + \"/source/load-ivy.sc\"\n",
    "interp.load.module(ammonite.ops.Path(java.nio.file.FileSystems.getDefault().getPath(path)))"
   ]
  },
  {
   "cell_type": "code",
   "execution_count": 2,
   "metadata": {},
   "outputs": [
    {
     "data": {
      "text/plain": [
       "\u001b[32mimport \u001b[39m\u001b[36mchisel3._\n",
       "\u001b[39m\n",
       "\u001b[32mimport \u001b[39m\u001b[36mchisel3.util._\n",
       "\u001b[39m\n",
       "\u001b[32mimport \u001b[39m\u001b[36mchisel3.iotesters.{ChiselFlatSpec, Driver, PeekPokeTester}\u001b[39m"
      ]
     },
     "execution_count": 2,
     "metadata": {},
     "output_type": "execute_result"
    }
   ],
   "source": [
    "import chisel3._\n",
    "import chisel3.util._\n",
    "import chisel3.iotesters.{ChiselFlatSpec, Driver, PeekPokeTester}"
   ]
  },
  {
   "cell_type": "markdown",
   "metadata": {},
   "source": [
    "---\n",
    "# Registers\n",
    "The basic stateful element in Chisel is the register, denoted `Reg`.\n",
    "A `Reg` holds its output value until the rising edge of its clock, at which time it takes on the value of its input.\n",
    "By default, every Chisel `Module` has an implicit clock that is used by every register in the design.\n",
    "This saves you from always specifying the same clock all over your code.\n",
    "\n",
    "<span style=\"color:blue\">**Example: Using a Register**</span><br>\n",
    "The following code block implements a module that takes the input, adds 1 to it, and connects it as the input of a register.\n",
    "*Note: The implicit clock can be overridden for multi-clock designs. See the appendix for an example.*"
   ]
  },
  {
   "cell_type": "code",
   "execution_count": 8,
   "metadata": {},
   "outputs": [
    {
     "name": "stdout",
     "output_type": "stream",
     "text": [
      "[\u001b[35minfo\u001b[0m] [0.000] Elaborating design...\n",
      "[\u001b[35minfo\u001b[0m] [0.070] Done elaborating.\n",
      "\n",
      "circuit cmd7WrapperHelperRegisterModule : \n",
      "  module cmd7WrapperHelperRegisterModule : \n",
      "    input clock : Clock\n",
      "    input reset : UInt<1>\n",
      "    output io : {flip a : UInt<4>, flip b : UInt<2>, flip c : UInt<3>, out : UInt}\n",
      "    \n",
      "    reg sum : UInt, clock @[cmd7.sc 9:16]\n",
      "    reg prod : UInt, clock @[cmd7.sc 10:17]\n",
      "    node _T_8 = add(io.a, io.b) @[cmd7.sc 11:15]\n",
      "    node _T_9 = tail(_T_8, 1) @[cmd7.sc 11:15]\n",
      "    sum <= _T_9 @[cmd7.sc 11:7]\n",
      "    node _T_10 = mul(sum, io.c) @[cmd7.sc 12:15]\n",
      "    prod <= _T_10 @[cmd7.sc 12:8]\n",
      "    node _T_11 = sub(prod, sum) @[cmd7.sc 13:18]\n",
      "    node _T_12 = asUInt(_T_11) @[cmd7.sc 13:18]\n",
      "    node _T_13 = tail(_T_12, 1) @[cmd7.sc 13:18]\n",
      "    io.out <= _T_13 @[cmd7.sc 13:10]\n",
      "    \n",
      "\n",
      "[\u001b[35minfo\u001b[0m] [0.000] Elaborating design...\n",
      "[\u001b[35minfo\u001b[0m] [0.002] Done elaborating.\n",
      "Total FIRRTL Compile Time: 1529.4 ms\n",
      "\n",
      "module cmd7WrapperHelperRegisterModule( // @[:@3.2]\n",
      "  input        clock, // @[:@4.4]\n",
      "  input        reset, // @[:@5.4]\n",
      "  input  [3:0] io_a, // @[:@6.4]\n",
      "  input  [1:0] io_b, // @[:@6.4]\n",
      "  input  [2:0] io_c, // @[:@6.4]\n",
      "  output [6:0] io_out // @[:@6.4]\n",
      ");\n",
      "  reg [3:0] sum; // @[cmd7.sc 9:16:@8.4]\n",
      "  reg [31:0] _RAND_0;\n",
      "  reg [6:0] prod; // @[cmd7.sc 10:17:@9.4]\n",
      "  reg [31:0] _RAND_1;\n",
      "  wire [3:0] _GEN_0; // @[cmd7.sc 11:15:@10.4]\n",
      "  wire [4:0] _T_8; // @[cmd7.sc 11:15:@10.4]\n",
      "  wire [3:0] _T_9; // @[cmd7.sc 11:15:@11.4]\n",
      "  wire [3:0] _GEN_1; // @[cmd7.sc 12:15:@13.4]\n",
      "  wire [6:0] _T_10; // @[cmd7.sc 12:15:@13.4]\n",
      "  wire [6:0] _GEN_2; // @[cmd7.sc 13:18:@15.4]\n",
      "  wire [7:0] _T_11; // @[cmd7.sc 13:18:@15.4]\n",
      "  wire [7:0] _T_12; // @[cmd7.sc 13:18:@16.4]\n",
      "  wire [6:0] _T_13; // @[cmd7.sc 13:18:@17.4]\n",
      "  assign _GEN_0 = {{2'd0}, io_b}; // @[cmd7.sc 11:15:@10.4]\n",
      "  assign _T_8 = io_a + _GEN_0; // @[cmd7.sc 11:15:@10.4]\n",
      "  assign _T_9 = _T_8[3:0]; // @[cmd7.sc 11:15:@11.4]\n",
      "  assign _GEN_1 = {{1'd0}, io_c}; // @[cmd7.sc 12:15:@13.4]\n",
      "  assign _T_10 = sum * _GEN_1; // @[cmd7.sc 12:15:@13.4]\n",
      "  assign _GEN_2 = {{3'd0}, sum}; // @[cmd7.sc 13:18:@15.4]\n",
      "  assign _T_11 = prod - _GEN_2; // @[cmd7.sc 13:18:@15.4]\n",
      "  assign _T_12 = $unsigned(_T_11); // @[cmd7.sc 13:18:@16.4]\n",
      "  assign _T_13 = _T_12[6:0]; // @[cmd7.sc 13:18:@17.4]\n",
      "  assign io_out = _T_13;\n",
      "`ifdef RANDOMIZE\n",
      "  integer initvar;\n",
      "  initial begin\n",
      "    `ifndef verilator\n",
      "      #0.002 begin end\n",
      "    `endif\n",
      "  `ifdef RANDOMIZE_REG_INIT\n",
      "  _RAND_0 = {1{$random}};\n",
      "  sum = _RAND_0[3:0];\n",
      "  `endif // RANDOMIZE_REG_INIT\n",
      "  `ifdef RANDOMIZE_REG_INIT\n",
      "  _RAND_1 = {1{$random}};\n",
      "  prod = _RAND_1[6:0];\n",
      "  `endif // RANDOMIZE_REG_INIT\n",
      "  end\n",
      "`endif // RANDOMIZE\n",
      "  always @(posedge clock) begin\n",
      "    sum <= _T_9;\n",
      "    prod <= _T_10;\n",
      "  end\n",
      "endmodule\n",
      "\n"
     ]
    },
    {
     "data": {
      "text/plain": [
       "defined \u001b[32mclass\u001b[39m \u001b[36mRegisterModule\u001b[39m"
      ]
     },
     "execution_count": 8,
     "metadata": {},
     "output_type": "execute_result"
    }
   ],
   "source": [
    "class RegisterModule extends Module {\n",
    "  val io = IO(new Bundle {\n",
    "    val a   = Input (UInt(4.W))\n",
    "    val b   = Input (UInt(2.W))\n",
    "    val c   = Input (UInt(3.W))\n",
    "    val out = Output(UInt())\n",
    "  })\n",
    "  \n",
    "  val sum = Reg(UInt())\n",
    "  val prod = Reg(UInt())\n",
    "  sum := io.a + io.b\n",
    "  prod := sum * io.c\n",
    "  io.out := prod - sum\n",
    "}\n",
    "\n",
    "println(getFirrtl(new RegisterModule))\n",
    "println(getVerilog(new RegisterModule))"
   ]
  },
  {
   "cell_type": "markdown",
   "metadata": {},
   "source": [
    "The register is created by calling `Reg(tpe)`, where `tpe` is a variable that encodes the type of register we want.\n",
    "In this example, `tpe` is a 12-bit `UInt`.\n",
    "\n",
    "Look at what the tester above is doing.\n",
    "Between calls to `poke()` and `expect`, there is a call to `step(1)`.\n",
    "This tells the test harness to tick the clock once, which will cause the register to pass its input to its output.\n",
    "\n",
    "Calling `step(n)` will tick the clock `n` times.\n",
    "\n",
    "The astute observer will notice that previous testers testing combinational logic did not call `step()`. This is because calling `poke()` on an input immediately propagates the updated values through combinational logic. Calling `step()` is only needed to update state elements in sequential logic. \n",
    "\n",
    "The code block below will show the verilog generated by `RegisterModule`.\n",
    "\n",
    "Note:\n",
    "* The module has an input for clock (and reset) that you didn't add- this is the implicit clock\n",
    "* The variable `register` shows up as `reg [11:0]`, as expected\n",
    "* There is a block sectioned off by ` `ifdef Randomize` that initialized the register to some random variable before simulation starts\n",
    "* `register` is updated on `posedge clock`"
   ]
  },
  {
   "cell_type": "code",
   "execution_count": 4,
   "metadata": {},
   "outputs": [
    {
     "name": "stdout",
     "output_type": "stream",
     "text": [
      "[\u001b[35minfo\u001b[0m] [0.001] Elaborating design...\n",
      "[\u001b[35minfo\u001b[0m] [0.004] Done elaborating.\n",
      "Total FIRRTL Compile Time: 157.5 ms\n",
      "\n",
      "module cmd2WrapperHelperRegisterModule( // @[:@3.2]\n",
      "  input         clock, // @[:@4.4]\n",
      "  input         reset, // @[:@5.4]\n",
      "  input  [11:0] io_in, // @[:@6.4]\n",
      "  output [11:0] io_out // @[:@6.4]\n",
      ");\n",
      "  reg [11:0] register; // @[cmd2.sc 7:21:@8.4]\n",
      "  reg [31:0] _RAND_0;\n",
      "  wire [12:0] _T_6; // @[cmd2.sc 8:21:@9.4]\n",
      "  wire [11:0] _T_7; // @[cmd2.sc 8:21:@10.4]\n",
      "  assign _T_6 = io_in + 12'h1; // @[cmd2.sc 8:21:@9.4]\n",
      "  assign _T_7 = _T_6[11:0]; // @[cmd2.sc 8:21:@10.4]\n",
      "  assign io_out = register;\n",
      "`ifdef RANDOMIZE\n",
      "  integer initvar;\n",
      "  initial begin\n",
      "    `ifndef verilator\n",
      "      #0.002 begin end\n",
      "    `endif\n",
      "  `ifdef RANDOMIZE_REG_INIT\n",
      "  _RAND_0 = {1{$random}};\n",
      "  register = _RAND_0[11:0];\n",
      "  `endif // RANDOMIZE_REG_INIT\n",
      "  end\n",
      "`endif // RANDOMIZE\n",
      "  always @(posedge clock) begin\n",
      "    register <= _T_7;\n",
      "  end\n",
      "endmodule\n",
      "\n"
     ]
    }
   ],
   "source": [
    "println(getVerilog(new RegisterModule))"
   ]
  },
  {
   "cell_type": "markdown",
   "metadata": {},
   "source": [
    "One important note is that Chisel distinguishes between types (like `UInt`) and hardware nodes (like the literal `2.U`, or the output of `myReg`). While\n",
    "```scala\n",
    "val myReg = Reg(UInt(2.W))\n",
    "```\n",
    "is legal because a Reg needs a data type as a model,\n",
    "```scala\n",
    "val myReg = Reg(2.U)\n",
    "```\n",
    "is an error because `2.U` is already a hardware node and can't be used as a model."
   ]
  },
  {
   "cell_type": "markdown",
   "metadata": {},
   "source": [
    "<span style=\"color:blue\">**Example: RegNext**</span><br>\n",
    "Chisel has a convenience register object for registers with simple input connections. The previous `Module` can be shortened to the following `Module`. Notice how we didn't need to specify the register bitwidth this time. It gets inferred from the register's output connection, in this case `io.out`."
   ]
  },
  {
   "cell_type": "code",
   "execution_count": 5,
   "metadata": {},
   "outputs": [
    {
     "name": "stdout",
     "output_type": "stream",
     "text": [
      "[\u001b[35minfo\u001b[0m] [0.000] Elaborating design...\n",
      "[\u001b[35minfo\u001b[0m] [0.004] Done elaborating.\n",
      "Total FIRRTL Compile Time: 41.4 ms\n",
      "Total FIRRTL Compile Time: 15.9 ms\n",
      "End of dependency graph\n",
      "Circuit state created\n",
      "[\u001b[35minfo\u001b[0m] [0.000] SEED 1536081558494\n",
      "test cmd4WrapperHelperRegNextModule Success: 100 tests passed in 105 cycles taking 0.149247 seconds\n",
      "[\u001b[35minfo\u001b[0m] [0.147] RAN 100 CYCLES PASSED\n",
      "SUCCESS!!\n"
     ]
    },
    {
     "data": {
      "text/plain": [
       "defined \u001b[32mclass\u001b[39m \u001b[36mRegNextModule\u001b[39m\n",
       "defined \u001b[32mclass\u001b[39m \u001b[36mRegNextModuleTester\u001b[39m"
      ]
     },
     "execution_count": 5,
     "metadata": {},
     "output_type": "execute_result"
    }
   ],
   "source": [
    "class RegNextModule extends Module {\n",
    "  val io = IO(new Bundle {\n",
    "    val in  = Input (UInt(12.W))\n",
    "    val out = Output(UInt(12.W))\n",
    "  })\n",
    "  \n",
    "  // register bitwidth is inferred from io.out\n",
    "  io.out := RegNext(io.in + 1.U)\n",
    "}\n",
    "\n",
    "class RegNextModuleTester(c: RegNextModule) extends PeekPokeTester(c) {\n",
    "  for (i <- 0 until 100) {\n",
    "    poke(c.io.in, i)\n",
    "    step(1)\n",
    "    expect(c.io.out, i+1)\n",
    "  }\n",
    "}\n",
    "assert(chisel3.iotesters.Driver(() => new RegNextModule) { c => new RegNextModuleTester(c) })\n",
    "println(\"SUCCESS!!\")"
   ]
  },
  {
   "cell_type": "markdown",
   "metadata": {},
   "source": [
    "The Verilog looks almost the same as before, though the register name is generated instead of explicity defined."
   ]
  },
  {
   "cell_type": "code",
   "execution_count": 6,
   "metadata": {},
   "outputs": [
    {
     "name": "stdout",
     "output_type": "stream",
     "text": [
      "[\u001b[35minfo\u001b[0m] [0.000] Elaborating design...\n",
      "[\u001b[35minfo\u001b[0m] [0.003] Done elaborating.\n",
      "Total FIRRTL Compile Time: 22.6 ms\n",
      "\n",
      "module cmd4WrapperHelperRegNextModule( // @[:@3.2]\n",
      "  input         clock, // @[:@4.4]\n",
      "  input         reset, // @[:@5.4]\n",
      "  input  [11:0] io_in, // @[:@6.4]\n",
      "  output [11:0] io_out // @[:@6.4]\n",
      ");\n",
      "  wire [12:0] _T_5; // @[cmd4.sc 8:27:@8.4]\n",
      "  wire [11:0] _T_6; // @[cmd4.sc 8:27:@9.4]\n",
      "  reg [11:0] _T_8; // @[cmd4.sc 8:20:@10.4]\n",
      "  reg [31:0] _RAND_0;\n",
      "  assign _T_5 = io_in + 12'h1; // @[cmd4.sc 8:27:@8.4]\n",
      "  assign _T_6 = _T_5[11:0]; // @[cmd4.sc 8:27:@9.4]\n",
      "  assign io_out = _T_8;\n",
      "`ifdef RANDOMIZE\n",
      "  integer initvar;\n",
      "  initial begin\n",
      "    `ifndef verilator\n",
      "      #0.002 begin end\n",
      "    `endif\n",
      "  `ifdef RANDOMIZE_REG_INIT\n",
      "  _RAND_0 = {1{$random}};\n",
      "  _T_8 = _RAND_0[11:0];\n",
      "  `endif // RANDOMIZE_REG_INIT\n",
      "  end\n",
      "`endif // RANDOMIZE\n",
      "  always @(posedge clock) begin\n",
      "    _T_8 <= _T_6;\n",
      "  end\n",
      "endmodule\n",
      "\n"
     ]
    }
   ],
   "source": [
    "println(getVerilog(new RegNextModule))"
   ]
  },
  {
   "cell_type": "markdown",
   "metadata": {},
   "source": [
    "---\n",
    "# `RegInit`\n",
    "\n",
    "The register in `RegisterModule` was initialized to random data for simulation.\n",
    "Unless otherwised specified, registers do not have a reset value (or a reset).\n",
    "The way to create a register that resets to a given value is with `RegInit`.\n",
    "\n",
    "For instance, a 12-bit register initialized to zero can be created with the following.\n",
    "Both versions below are valid and do the same thing:\n",
    "```scala\n",
    "val myReg = RegInit(UInt(12.W), 0.U)\n",
    "val myReg = RegInit(0.U(12.W))\n",
    "```\n",
    "\n",
    "The first version has two arguments.\n",
    "The first argument is a type node that specified the datatype and its width.\n",
    "The second argument is a hardware node that specified the reset value, in this case 0.\n",
    "\n",
    "The second version has one argument.\n",
    "It is a hardware node that specifies the reset value, but normally `0.U`.\n",
    "\n",
    "<span style=\"color:blue\">**Example: Initialized Register** </span><br>\n",
    "The following demonstrates using `RegInit()`, initialized to zero."
   ]
  },
  {
   "cell_type": "code",
   "execution_count": 7,
   "metadata": {},
   "outputs": [
    {
     "name": "stdout",
     "output_type": "stream",
     "text": [
      "[\u001b[35minfo\u001b[0m] [0.000] Elaborating design...\n",
      "[\u001b[35minfo\u001b[0m] [0.006] Done elaborating.\n",
      "Total FIRRTL Compile Time: 20.3 ms\n",
      "\n",
      "module cmd6WrapperHelperRegInitModule( // @[:@3.2]\n",
      "  input         clock, // @[:@4.4]\n",
      "  input         reset, // @[:@5.4]\n",
      "  input  [11:0] io_in, // @[:@6.4]\n",
      "  output [11:0] io_out // @[:@6.4]\n",
      ");\n",
      "  reg [11:0] register; // @[cmd6.sc 7:25:@8.4]\n",
      "  reg [31:0] _RAND_0;\n",
      "  wire [12:0] _T_7; // @[cmd6.sc 8:21:@9.4]\n",
      "  wire [11:0] _T_8; // @[cmd6.sc 8:21:@10.4]\n",
      "  assign _T_7 = io_in + 12'h1; // @[cmd6.sc 8:21:@9.4]\n",
      "  assign _T_8 = _T_7[11:0]; // @[cmd6.sc 8:21:@10.4]\n",
      "  assign io_out = register;\n",
      "`ifdef RANDOMIZE\n",
      "  integer initvar;\n",
      "  initial begin\n",
      "    `ifndef verilator\n",
      "      #0.002 begin end\n",
      "    `endif\n",
      "  `ifdef RANDOMIZE_REG_INIT\n",
      "  _RAND_0 = {1{$random}};\n",
      "  register = _RAND_0[11:0];\n",
      "  `endif // RANDOMIZE_REG_INIT\n",
      "  end\n",
      "`endif // RANDOMIZE\n",
      "  always @(posedge clock) begin\n",
      "    if (reset) begin\n",
      "      register <= 12'h0;\n",
      "    end else begin\n",
      "      register <= _T_8;\n",
      "    end\n",
      "  end\n",
      "endmodule\n",
      "\n"
     ]
    },
    {
     "data": {
      "text/plain": [
       "defined \u001b[32mclass\u001b[39m \u001b[36mRegInitModule\u001b[39m"
      ]
     },
     "execution_count": 7,
     "metadata": {},
     "output_type": "execute_result"
    }
   ],
   "source": [
    "class RegInitModule extends Module {\n",
    "  val io = IO(new Bundle {\n",
    "    val in  = Input (UInt(12.W))\n",
    "    val out = Output(UInt(12.W))\n",
    "  })\n",
    "  \n",
    "  val register = RegInit(0.U(12.W))\n",
    "  register := io.in + 1.U\n",
    "  io.out := register\n",
    "}\n",
    "\n",
    "println(getVerilog(new RegInitModule))"
   ]
  },
  {
   "cell_type": "markdown",
   "metadata": {},
   "source": [
    "Note that the generated verilog now has a block that checks `if (reset)` to reset the register to 0.\n",
    "Also note that this is inside the `always @(posedge clock)` block.\n",
    "Chisel's implicit reset is active high and synchronous.\n",
    "The register is still initialized to random junk before reset is called.\n",
    "The `PeekPokeTesters` always call reset before running your test, but you can manually call reset as well using the `reset(n)` function, where reset is high for `n` cycles."
   ]
  },
  {
   "cell_type": "markdown",
   "metadata": {},
   "source": [
    "---\n",
    "# Control Flow\n",
    "Registers are very similar to wires in terms of control flow.\n",
    "They have last connect semantics and can be assigned to conditionally with `when`, `elsewhen`, and `otherwise`.\n",
    "\n",
    "<span style=\"color:blue\">**Example: Register Control Flow**</span><br>\n",
    "The following example finds the maximum value in a sequence of inputs using conditional register assignments."
   ]
  },
  {
   "cell_type": "code",
   "execution_count": 8,
   "metadata": {},
   "outputs": [
    {
     "name": "stdout",
     "output_type": "stream",
     "text": [
      "[\u001b[35minfo\u001b[0m] [0.000] Elaborating design...\n",
      "[\u001b[35minfo\u001b[0m] [0.010] Done elaborating.\n",
      "Total FIRRTL Compile Time: 21.9 ms\n",
      "Total FIRRTL Compile Time: 19.0 ms\n",
      "End of dependency graph\n",
      "Circuit state created\n",
      "[\u001b[35minfo\u001b[0m] [0.001] SEED 1536081843926\n",
      "test cmd7WrapperHelperFindMax Success: 5 tests passed in 9 cycles taking 0.008140 seconds\n",
      "[\u001b[35minfo\u001b[0m] [0.006] RAN 4 CYCLES PASSED\n",
      "SUCCESS!!\n"
     ]
    },
    {
     "data": {
      "text/plain": [
       "defined \u001b[32mclass\u001b[39m \u001b[36mFindMax\u001b[39m"
      ]
     },
     "execution_count": 8,
     "metadata": {},
     "output_type": "execute_result"
    }
   ],
   "source": [
    "class FindMax extends Module {\n",
    "  val io = IO(new Bundle {\n",
    "    val in  = Input(UInt(10.W))\n",
    "    val max = Output(UInt(10.W))\n",
    "  })\n",
    "\n",
    "  val max = RegInit(0.U(10.W))\n",
    "  when (io.in > max) {\n",
    "    max := io.in\n",
    "  }\n",
    "  io.max := max\n",
    "}\n",
    "assert(chisel3.iotesters.Driver(() => new FindMax) {\n",
    "  c => new PeekPokeTester(c) {\n",
    "    expect(c.io.max, 0)\n",
    "    poke(c.io.in, 1)\n",
    "    step(1)\n",
    "    expect(c.io.max, 1)\n",
    "    poke(c.io.in, 3)\n",
    "    step(1)\n",
    "    expect(c.io.max, 3)\n",
    "    poke(c.io.in, 2)\n",
    "    step(1)\n",
    "    expect(c.io.max, 3)\n",
    "    poke(c.io.in, 24)\n",
    "    step(1)\n",
    "    expect(c.io.max, 24)\n",
    "  }\n",
    "})\n",
    "println(\"SUCCESS!!\")"
   ]
  },
  {
   "cell_type": "markdown",
   "metadata": {},
   "source": [
    "---\n",
    "# Other Register Examples\n",
    "\n",
    "Operations called on a register are performed on the **output** of the register, and the kind of operations depend on the register's type.\n",
    "That means that you can write\n",
    "```scala\n",
    "val reg: UInt = Reg(UInt(4.W))```\n",
    "which means the value `reg` is of type `UInt` and you can do things you can normally do with `UInt`s, like `+`, `-`, etc.\n",
    "\n",
    "\n",
    "You aren't restricted to using `UInt`s with registers, you can use any subclass of the base type `chisel3.Data`. This includes `SInt` for signed integers and a lot of other things.\n",
    "\n",
    "<span style=\"color:blue\">**Example: Comb Filter**</span><br>\n",
    "The following example shows a comb filter."
   ]
  },
  {
   "cell_type": "code",
   "execution_count": 9,
   "metadata": {},
   "outputs": [
    {
     "name": "stdout",
     "output_type": "stream",
     "text": [
      "[\u001b[35minfo\u001b[0m] [0.000] Elaborating design...\n",
      "[\u001b[35minfo\u001b[0m] [0.009] Done elaborating.\n",
      "Total FIRRTL Compile Time: 27.1 ms\n",
      "\n",
      "module cmd8WrapperHelperComb( // @[:@3.2]\n",
      "  input         clock, // @[:@4.4]\n",
      "  input         reset, // @[:@5.4]\n",
      "  input  [11:0] io_in, // @[:@6.4]\n",
      "  output [11:0] io_out // @[:@6.4]\n",
      ");\n",
      "  reg [11:0] delay; // @[cmd8.sc 7:24:@8.4]\n",
      "  reg [31:0] _RAND_0;\n",
      "  wire [12:0] _T_5; // @[cmd8.sc 9:19:@10.4]\n",
      "  wire [11:0] _T_6; // @[cmd8.sc 9:19:@11.4]\n",
      "  wire [11:0] _T_7; // @[cmd8.sc 9:19:@12.4]\n",
      "  assign _T_5 = $signed(io_in) - $signed(delay); // @[cmd8.sc 9:19:@10.4]\n",
      "  assign _T_6 = _T_5[11:0]; // @[cmd8.sc 9:19:@11.4]\n",
      "  assign _T_7 = $signed(_T_6); // @[cmd8.sc 9:19:@12.4]\n",
      "  assign io_out = _T_7;\n",
      "`ifdef RANDOMIZE\n",
      "  integer initvar;\n",
      "  initial begin\n",
      "    `ifndef verilator\n",
      "      #0.002 begin end\n",
      "    `endif\n",
      "  `ifdef RANDOMIZE_REG_INIT\n",
      "  _RAND_0 = {1{$random}};\n",
      "  delay = _RAND_0[11:0];\n",
      "  `endif // RANDOMIZE_REG_INIT\n",
      "  end\n",
      "`endif // RANDOMIZE\n",
      "  always @(posedge clock) begin\n",
      "    delay <= io_in;\n",
      "  end\n",
      "endmodule\n",
      "\n"
     ]
    },
    {
     "data": {
      "text/plain": [
       "defined \u001b[32mclass\u001b[39m \u001b[36mComb\u001b[39m"
      ]
     },
     "execution_count": 9,
     "metadata": {},
     "output_type": "execute_result"
    }
   ],
   "source": [
    "class Comb extends Module {\n",
    "  val io = IO(new Bundle {\n",
    "    val in  = Input(SInt(12.W))\n",
    "    val out = Output(SInt(12.W))\n",
    "  })\n",
    "\n",
    "  val delay: SInt = Reg(SInt(12.W))\n",
    "  delay := io.in\n",
    "  io.out := io.in - delay\n",
    "}\n",
    "println(getVerilog(new Comb))"
   ]
  },
  {
   "cell_type": "markdown",
   "metadata": {},
   "source": [
    "---\n",
    "# Exercises\n",
    "<span style=\"color:red\">**Exercise: Shift Register**</span><br>\n",
    "Given your new-found registering knowledge, build a module that implements a shift register for a LFSR. Specifically:\n",
    "- Each element is a single bit wide.\n",
    "- Has a 4-bit output signal.\n",
    "- Takes a single input bit, which is the next value into the shift register.\n",
    "- Outputs the parallel output of the shift register, with the most significant bit being the last element of the shift register and the least significant bit being the first element of the shift register. `Cat` may come in handy.\n",
    "- **The output initializes at `b0001`.**\n",
    "- Shifts each clock cycle (no enable signal).\n",
    "- **Note in Chisel, subword assignment IS ILLEGAL**; something like `out(0) := in` will not work.\n",
    "\n",
    "<img src=\"images/shifter4.svg\" alt=\"shift register figure\" style=\"width: 450px\" />\n",
    "\n",
    "A basic Module skeleton, testvector, and Driver invocation is provided below. The first register has been provided for you."
   ]
  },
  {
   "cell_type": "code",
   "execution_count": 20,
   "metadata": {},
   "outputs": [
    {
     "name": "stdout",
     "output_type": "stream",
     "text": [
      "[\u001b[35minfo\u001b[0m] [0.000] Elaborating design...\n",
      "[\u001b[35minfo\u001b[0m] [0.007] Done elaborating.\n",
      "Total FIRRTL Compile Time: 18.0 ms\n",
      "Total FIRRTL Compile Time: 16.0 ms\n",
      "End of dependency graph\n",
      "Circuit state created\n",
      "[\u001b[35minfo\u001b[0m] [0.000] SEED 1536083837322\n",
      "test cmd19WrapperHelperMyShiftRegister Success: 10 tests passed in 15 cycles taking 0.007899 seconds\n",
      "[\u001b[35minfo\u001b[0m] [0.007] RAN 10 CYCLES PASSED\n",
      "SUCCESS!!\n"
     ]
    },
    {
     "data": {
      "text/plain": [
       "defined \u001b[32mclass\u001b[39m \u001b[36mMyShiftRegister\u001b[39m\n",
       "defined \u001b[32mclass\u001b[39m \u001b[36mMyShiftRegisterTester\u001b[39m"
      ]
     },
     "execution_count": 20,
     "metadata": {},
     "output_type": "execute_result"
    }
   ],
   "source": [
    "class MyShiftRegister(val init: Int = 1) extends Module {\n",
    "  val io = IO(new Bundle {\n",
    "    val in  = Input(Bool())\n",
    "    val out = Output(UInt(4.W))\n",
    "  })\n",
    "\n",
    "  val state = RegInit(UInt(4.W), init.U)\n",
    "  val next_state = Wire(UInt(4.W))\n",
    "  next_state := Cat(state(2), state(1), state(0), io.in)\n",
    "  state := next_state\n",
    "  io.out := state\n",
    "  \n",
    "}\n",
    "\n",
    "class MyShiftRegisterTester(c: MyShiftRegister) extends PeekPokeTester(c) {\n",
    "  var state = c.init\n",
    "  for (i <- 0 until 10) {\n",
    "    // poke in LSB of i (i % 2)\n",
    "    poke(c.io.in, i % 2)\n",
    "    // update expected state\n",
    "    state = ((state * 2) + (i % 2)) & 0xf\n",
    "    step(1)\n",
    "    expect(c.io.out, state)\n",
    "  }\n",
    "}\n",
    "assert(chisel3.iotesters.Driver(() => new MyShiftRegister()) {\n",
    "    c => new MyShiftRegisterTester(c)\n",
    "})\n",
    "println(\"SUCCESS!!\")"
   ]
  },
  {
   "cell_type": "markdown",
   "metadata": {},
   "source": [
    "<div id=\"container\"><section id=\"accordion\"><div>\n",
    "<input type=\"checkbox\" id=\"check-1\" />\n",
    "<label for=\"check-1\"><strong>Solution</strong></label>\n",
    "<article>\n",
    "<pre style=\"background-color:#f7f7f7\">\n",
    "  val nextState = (state << 1) | io.in\n",
    "  state := nextState\n",
    "  io.out := state\n",
    "</pre></article></div></section></div>"
   ]
  },
  {
   "cell_type": "markdown",
   "metadata": {},
   "source": [
    "<span style=\"color:red\">**Exercise: Parameterized Shift Register (Optional)**</span><br>\n",
    "Write a shift register that is parameterized by its delay (`n`), its initial value (`init`), and also has an enable input signal (`en`)."
   ]
  },
  {
   "cell_type": "code",
   "execution_count": 9,
   "metadata": {},
   "outputs": [
    {
     "name": "stdout",
     "output_type": "stream",
     "text": [
      "Testing n=3\n",
      "[\u001b[35minfo\u001b[0m] [0.000] Elaborating design...\n",
      "[\u001b[35minfo\u001b[0m] [0.005] Done elaborating.\n",
      "Total FIRRTL Compile Time: 14.2 ms\n",
      "Total FIRRTL Compile Time: 15.0 ms\n",
      "End of dependency graph\n",
      "Circuit state created\n",
      "[\u001b[35minfo\u001b[0m] [0.001] SEED 1536110690413\n",
      "test cmd8WrapperHelperMyOptionalShiftRegister Success: 30 tests passed in 35 cycles taking 0.010246 seconds\n",
      "[\u001b[35minfo\u001b[0m] [0.007] RAN 30 CYCLES PASSED\n",
      "Testing n=4\n",
      "[\u001b[35minfo\u001b[0m] [0.000] Elaborating design...\n",
      "[\u001b[35minfo\u001b[0m] [0.003] Done elaborating.\n",
      "Total FIRRTL Compile Time: 15.4 ms\n",
      "Total FIRRTL Compile Time: 11.4 ms\n",
      "End of dependency graph\n",
      "Circuit state created\n",
      "[\u001b[35minfo\u001b[0m] [0.000] SEED 1536110690483\n",
      "test cmd8WrapperHelperMyOptionalShiftRegister Success: 40 tests passed in 45 cycles taking 0.005827 seconds\n",
      "[\u001b[35minfo\u001b[0m] [0.006] RAN 40 CYCLES PASSED\n",
      "Testing n=8\n",
      "[\u001b[35minfo\u001b[0m] [0.000] Elaborating design...\n",
      "[\u001b[35minfo\u001b[0m] [0.002] Done elaborating.\n",
      "Total FIRRTL Compile Time: 15.6 ms\n",
      "Total FIRRTL Compile Time: 18.6 ms\n",
      "End of dependency graph\n",
      "Circuit state created\n",
      "[\u001b[35minfo\u001b[0m] [0.000] SEED 1536110690540\n",
      "test cmd8WrapperHelperMyOptionalShiftRegister Success: 80 tests passed in 85 cycles taking 0.010338 seconds\n",
      "[\u001b[35minfo\u001b[0m] [0.010] RAN 80 CYCLES PASSED\n",
      "Testing n=24\n",
      "[\u001b[35minfo\u001b[0m] [0.000] Elaborating design...\n",
      "[\u001b[35minfo\u001b[0m] [0.002] Done elaborating.\n",
      "Total FIRRTL Compile Time: 11.8 ms\n",
      "Total FIRRTL Compile Time: 14.4 ms\n",
      "End of dependency graph\n",
      "Circuit state created\n",
      "[\u001b[35minfo\u001b[0m] [0.000] SEED 1536110690619\n",
      "test cmd8WrapperHelperMyOptionalShiftRegister Success: 240 tests passed in 245 cycles taking 0.030431 seconds\n",
      "[\u001b[35minfo\u001b[0m] [0.030] RAN 240 CYCLES PASSED\n",
      "Testing n=65\n",
      "[\u001b[35minfo\u001b[0m] [0.000] Elaborating design...\n",
      "[\u001b[35minfo\u001b[0m] [0.002] Done elaborating.\n",
      "Total FIRRTL Compile Time: 15.5 ms\n",
      "Total FIRRTL Compile Time: 9.0 ms\n",
      "End of dependency graph\n",
      "Circuit state created\n",
      "[\u001b[35minfo\u001b[0m] [0.001] SEED 1536110690697\n",
      "test cmd8WrapperHelperMyOptionalShiftRegister Success: 650 tests passed in 655 cycles taking 0.067013 seconds\n",
      "[\u001b[35minfo\u001b[0m] [0.067] RAN 650 CYCLES PASSED\n",
      "SUCCESS!!\n"
     ]
    },
    {
     "data": {
      "text/plain": [
       "defined \u001b[32mclass\u001b[39m \u001b[36mMyOptionalShiftRegister\u001b[39m\n",
       "defined \u001b[32mclass\u001b[39m \u001b[36mMyOptionalShiftRegisterTester\u001b[39m"
      ]
     },
     "execution_count": 9,
     "metadata": {},
     "output_type": "execute_result"
    }
   ],
   "source": [
    "// n is the output width (number of delays - 1)\n",
    "// init state to init\n",
    "class MyOptionalShiftRegister(val n: Int, val init: BigInt = 1) extends Module {\n",
    "  val io = IO(new Bundle {\n",
    "    val en  = Input(Bool())\n",
    "    val in  = Input(Bool())\n",
    "    val out = Output(UInt(n.W))\n",
    "  })\n",
    "\n",
    "  val state = RegInit(init.U(n.W))\n",
    "  val next_state = Wire(UInt(n.W))\n",
    "  // Can just use bit shifting and bitwise OR\n",
    "  next_state := ((state << 1) | io.in)\n",
    "  when (io.en) {state := next_state}\n",
    "  // I think io.out should be assigned to state, as in the previous exercise.\n",
    "  io.out := next_state\n",
    "\n",
    "}\n",
    "\n",
    "class MyOptionalShiftRegisterTester(c: MyOptionalShiftRegister) extends PeekPokeTester(c) {\n",
    "  val inSeq = Seq(0, 1, 1, 1, 0, 1, 1, 0, 0, 1)\n",
    "  var state = c.init\n",
    "  var i = 0\n",
    "  poke(c.io.en, 1)\n",
    "  while (i < 10 * c.n) {\n",
    "    // poke in repeated inSeq\n",
    "    val toPoke = inSeq(i % inSeq.length)\n",
    "    poke(c.io.in, toPoke)\n",
    "    // update expected state\n",
    "    state = ((state * 2) + toPoke) & BigInt(\"1\"*c.n, 2)\n",
    "    expect(c.io.out, state)\n",
    "    step(1)\n",
    "\n",
    "    i += 1\n",
    "  }\n",
    "}\n",
    "\n",
    "// test different depths\n",
    "for (i <- Seq(3, 4, 8, 24, 65)) {\n",
    "  println(s\"Testing n=$i\")\n",
    "  assert(chisel3.iotesters.Driver(() => new MyOptionalShiftRegister(n = i)) {\n",
    "    c => new MyOptionalShiftRegisterTester(c)\n",
    "  })\n",
    "}\n",
    "println(\"SUCCESS!!\")"
   ]
  },
  {
   "cell_type": "markdown",
   "metadata": {},
   "source": [
    "<div id=\"container\"><section id=\"accordion\"><div>\n",
    "<input type=\"checkbox\" id=\"check-2\" />\n",
    "<label for=\"check-2\"><strong>Solution</strong></label>\n",
    "<article>\n",
    "<pre style=\"background-color:#f7f7f7\">\n",
    "  val nextState = (state << 1) | io.in\n",
    "  when (io.en) {\n",
    "    state  := nextState\n",
    "  }\n",
    "  io.out := nextState\n",
    "</pre></article></div></section></div>"
   ]
  },
  {
   "cell_type": "markdown",
   "metadata": {},
   "source": [
    "---\n",
    "# Appendix: Explicit clock and reset\n",
    "Chisel modules have a default clock and reset that are implicitly used by every register created inside them.\n",
    "There are times where you want to be able to override this default behavior; perhaps you have a black box that generates a clock or reset signal, or you have a multi-clock design.\n",
    "\n",
    "Chisel provides constructs for dealing with these cases.\n",
    "Clocks and resets can be overridden separately or together with `withClock() {}`, `withReset() {}`, and `withClockAndReset() {}`.\n",
    "The following code blocks will give examples of using these functions.\n",
    "\n",
    "One thing to be aware of is that `reset` (as of this tutorial's writing) is always synchronous and of type `Bool`.\n",
    "Clocks have their own type in Chisel (`Clock`) and should be declared as such.\n",
    "*`Bool`s can be converted to `Clock`s by calling `asClock()` on them, but you should be careful that you aren't doing something silly.*\n",
    "\n",
    "Also note that `chisel-testers` do not currently have complete support for multi-clock designs.\n",
    "\n",
    "<span style=\"color:blue\">**Example: Multi-Clock Module**</span><br>\n",
    "A module with multiple clocks and reset signals."
   ]
  },
  {
   "cell_type": "code",
   "execution_count": 11,
   "metadata": {
    "scrolled": true
   },
   "outputs": [
    {
     "name": "stdout",
     "output_type": "stream",
     "text": [
      "[\u001b[35minfo\u001b[0m] [0.000] Elaborating design...\n",
      "[\u001b[35minfo\u001b[0m] [0.007] Done elaborating.\n",
      "Total FIRRTL Compile Time: 19.3 ms\n",
      "\n",
      "module cmd10WrapperHelperClockExamples( // @[:@3.2]\n",
      "  input        clock, // @[:@4.4]\n",
      "  input        reset, // @[:@5.4]\n",
      "  input  [9:0] io_in, // @[:@6.4]\n",
      "  input        io_alternateReset, // @[:@6.4]\n",
      "  input        io_alternateClock, // @[:@6.4]\n",
      "  output [9:0] io_outImplicit, // @[:@6.4]\n",
      "  output [9:0] io_outAlternateReset, // @[:@6.4]\n",
      "  output [9:0] io_outAlternateClock, // @[:@6.4]\n",
      "  output [9:0] io_outAlternateBoth // @[:@6.4]\n",
      ");\n",
      "  reg [9:0] imp; // @[cmd10.sc 14:20:@8.4]\n",
      "  reg [31:0] _RAND_0;\n",
      "  reg [9:0] _T_13; // @[cmd10.sc 20:25:@11.4]\n",
      "  reg [31:0] _RAND_1;\n",
      "  reg [9:0] _T_16; // @[cmd10.sc 26:25:@14.4]\n",
      "  reg [31:0] _RAND_2;\n",
      "  reg [9:0] _T_19; // @[cmd10.sc 32:22:@17.4]\n",
      "  reg [31:0] _RAND_3;\n",
      "  assign io_outImplicit = imp;\n",
      "  assign io_outAlternateReset = _T_13;\n",
      "  assign io_outAlternateClock = _T_16;\n",
      "  assign io_outAlternateBoth = _T_19;\n",
      "`ifdef RANDOMIZE\n",
      "  integer initvar;\n",
      "  initial begin\n",
      "    `ifndef verilator\n",
      "      #0.002 begin end\n",
      "    `endif\n",
      "  `ifdef RANDOMIZE_REG_INIT\n",
      "  _RAND_0 = {1{$random}};\n",
      "  imp = _RAND_0[9:0];\n",
      "  `endif // RANDOMIZE_REG_INIT\n",
      "  `ifdef RANDOMIZE_REG_INIT\n",
      "  _RAND_1 = {1{$random}};\n",
      "  _T_13 = _RAND_1[9:0];\n",
      "  `endif // RANDOMIZE_REG_INIT\n",
      "  `ifdef RANDOMIZE_REG_INIT\n",
      "  _RAND_2 = {1{$random}};\n",
      "  _T_16 = _RAND_2[9:0];\n",
      "  `endif // RANDOMIZE_REG_INIT\n",
      "  `ifdef RANDOMIZE_REG_INIT\n",
      "  _RAND_3 = {1{$random}};\n",
      "  _T_19 = _RAND_3[9:0];\n",
      "  `endif // RANDOMIZE_REG_INIT\n",
      "  end\n",
      "`endif // RANDOMIZE\n",
      "  always @(posedge clock) begin\n",
      "    if (reset) begin\n",
      "      imp <= 10'h0;\n",
      "    end else begin\n",
      "      imp <= io_in;\n",
      "    end\n",
      "    if (io_alternateReset) begin\n",
      "      _T_13 <= 10'h0;\n",
      "    end else begin\n",
      "      _T_13 <= io_in;\n",
      "    end\n",
      "  end\n",
      "  always @(posedge io_alternateClock) begin\n",
      "    if (reset) begin\n",
      "      _T_16 <= 10'h0;\n",
      "    end else begin\n",
      "      _T_16 <= io_in;\n",
      "    end\n",
      "    if (io_alternateReset) begin\n",
      "      _T_19 <= 10'h0;\n",
      "    end else begin\n",
      "      _T_19 <= io_in;\n",
      "    end\n",
      "  end\n",
      "endmodule\n",
      "\n"
     ]
    },
    {
     "data": {
      "text/plain": [
       "\u001b[32mimport \u001b[39m\u001b[36mchisel3.experimental.{withClock, withReset, withClockAndReset}\n",
       "\n",
       "\u001b[39m\n",
       "defined \u001b[32mclass\u001b[39m \u001b[36mClockExamples\u001b[39m"
      ]
     },
     "execution_count": 11,
     "metadata": {},
     "output_type": "execute_result"
    }
   ],
   "source": [
    "// we need to import multi-clock features\n",
    "import chisel3.experimental.{withClock, withReset, withClockAndReset}\n",
    "\n",
    "class ClockExamples extends Module {\n",
    "  val io = IO(new Bundle {\n",
    "    val in = Input(UInt(10.W))\n",
    "    val alternateReset    = Input(Bool())\n",
    "    val alternateClock    = Input(Clock())\n",
    "    val outImplicit       = Output(UInt())\n",
    "    val outAlternateReset = Output(UInt())\n",
    "    val outAlternateClock = Output(UInt())\n",
    "    val outAlternateBoth  = Output(UInt())\n",
    "  })\n",
    "\n",
    "  val imp = RegInit(0.U(10.W))\n",
    "  imp := io.in\n",
    "  io.outImplicit := imp\n",
    "\n",
    "  withReset(io.alternateReset) {\n",
    "    // everything in this scope with have alternateReset as the reset\n",
    "    val altRst = RegInit(0.U(10.W))\n",
    "    altRst := io.in\n",
    "    io.outAlternateReset := altRst\n",
    "  }\n",
    "\n",
    "  withClock(io.alternateClock) {\n",
    "    val altClk = RegInit(0.U(10.W))\n",
    "    altClk := io.in\n",
    "    io.outAlternateClock := altClk\n",
    "  }\n",
    "\n",
    "  withClockAndReset(io.alternateClock, io.alternateReset) {\n",
    "    val alt = RegInit(0.U(10.W))\n",
    "    alt := io.in\n",
    "    io.outAlternateBoth := alt\n",
    "  }\n",
    "}\n",
    "\n",
    "println(getVerilog(new ClockExamples))"
   ]
  },
  {
   "cell_type": "markdown",
   "metadata": {},
   "source": [
    "---\n",
    "# Wrap Up\n",
    "Great job completing this section!! You've now learned how to create registers and write sequential logic in Chisel, which means you have enough basic building blocks to write real circuits.\n",
    "\n",
    "The next section will combine everything we've learned into one example! If you need a little more encouragement, just remember these words from an expert Chisel user:\n",
    "\n",
    "![BobRoss](http://i.qkme.me/3qbd5u.jpg)"
   ]
  },
  {
   "cell_type": "markdown",
   "metadata": {},
   "source": [
    "---\n",
    "# You're done!\n",
    "\n",
    "[Return to the top.](#top)"
   ]
  }
 ],
 "metadata": {
  "kernelspec": {
   "display_name": "Scala",
   "language": "scala",
   "name": "scala"
  },
  "language_info": {
   "codemirror_mode": "text/x-scala",
   "file_extension": ".scala",
   "mimetype": "text/x-scala",
   "name": "scala211",
   "nbconvert_exporter": "script",
   "pygments_lexer": "scala",
   "version": "2.11.11"
  }
 },
 "nbformat": 4,
 "nbformat_minor": 2
}
